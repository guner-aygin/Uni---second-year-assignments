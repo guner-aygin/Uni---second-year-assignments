{
 "cells": [
  {
   "cell_type": "markdown",
   "id": "3d4f611d-ade3-4aec-9723-5688fdd247d8",
   "metadata": {},
   "source": [
    "# Scientific Computing - Worksheet\n",
    "\n",
    "### Guner Aygin"
   ]
  },
  {
   "cell_type": "code",
   "execution_count": 1,
   "id": "94dd9240-d7f7-4ff6-8af9-5872e03abf56",
   "metadata": {},
   "outputs": [],
   "source": [
    "import numpy as np\n",
    "import random"
   ]
  },
  {
   "cell_type": "markdown",
   "id": "18ea480a-796a-4e4a-a6e1-1e27c3b40cf1",
   "metadata": {},
   "source": [
    "##### 1.  Use a for-loop to sum the squares of the numbers 1 to 10.  Print the result."
   ]
  },
  {
   "cell_type": "code",
   "execution_count": 2,
   "id": "09679b4e-84b5-41cd-912e-0f9f570b6949",
   "metadata": {},
   "outputs": [
    {
     "name": "stdout",
     "output_type": "stream",
     "text": [
      "385\n"
     ]
    }
   ],
   "source": [
    "sqr_numbers = [x**2 for x in range(1,11)]\n",
    "\n",
    "sum_of_sqrs = sum(sqr_numbers)\n",
    "\n",
    "print(sum_of_sqrs)"
   ]
  },
  {
   "cell_type": "markdown",
   "id": "c424ca7c-3e05-4728-bc59-872e70458a76",
   "metadata": {},
   "source": [
    "##### 2.  Using a) numpy.linspace and b) numpy.arange, create a NumPy array containing the values 1.0 to 2.0 inclusive in steps of 0.05."
   ]
  },
  {
   "cell_type": "code",
   "execution_count": 3,
   "id": "88990920-5552-4a55-83d1-cb449092c614",
   "metadata": {},
   "outputs": [
    {
     "name": "stdout",
     "output_type": "stream",
     "text": [
      "[1.   1.05 1.1  1.15 1.2  1.25 1.3  1.35 1.4  1.45 1.5  1.55 1.6  1.65\n",
      " 1.7  1.75 1.8  1.85 1.9  1.95 2.  ]\n",
      "\n",
      "[1.   1.05 1.1  1.15 1.2  1.25 1.3  1.35 1.4  1.45 1.5  1.55 1.6  1.65\n",
      " 1.7  1.75 1.8  1.85 1.9  1.95 2.  ]\n",
      "\n",
      "Note that, although x and y are equal, a numerical error in the system doesn't equate the two:\n"
     ]
    },
    {
     "data": {
      "text/plain": [
       "array([ True,  True,  True, False, False, False, False, False, False,\n",
       "       False, False, False, False, False, False, False, False, False,\n",
       "       False, False, False])"
      ]
     },
     "execution_count": 3,
     "metadata": {},
     "output_type": "execute_result"
    }
   ],
   "source": [
    "''' Part a) '''\n",
    "x = np.linspace(1,2,21)\n",
    "\n",
    "''' Part b) '''\n",
    "y = np.arange(1,2.05,0.05)\n",
    "\n",
    "print(x)\n",
    "print()\n",
    "print(y)\n",
    "print()\n",
    "print('Note that, although x and y are equal, a numerical error in the system doesn\\'t equate the two:')\n",
    "x == y\n"
   ]
  },
  {
   "cell_type": "markdown",
   "id": "94e0ddc8-c325-4af1-a686-fefce5530890",
   "metadata": {},
   "source": [
    "##### 3.  Create  a 5×5 NumPy  array  containing  1’s  everywhere  expect  the  leading  diagonal  which should contain 5 random numbers from a uniform distribution U(0,1)."
   ]
  },
  {
   "cell_type": "code",
   "execution_count": 4,
   "id": "720a506a-f29a-4138-9283-289dd7424304",
   "metadata": {},
   "outputs": [
    {
     "name": "stdout",
     "output_type": "stream",
     "text": [
      "[[0.91114261 1.         1.         1.         1.        ]\n",
      " [1.         0.57719173 1.         1.         1.        ]\n",
      " [1.         1.         0.35122738 1.         1.        ]\n",
      " [1.         1.         1.         0.69557078 1.        ]\n",
      " [1.         1.         1.         1.         0.07349869]]\n"
     ]
    }
   ],
   "source": [
    "''' creating a 5x5 array'''\n",
    "a = np.ones((5,5))\n",
    "\n",
    "''' creating random diagonal array '''\n",
    "random = np.random.rand(5,5)\n",
    "random = np.eye(5,5)*random\n",
    "\n",
    "''' finishing the task'''\n",
    "a = random + a - np.eye(5,5) # adding ones then subtracting 1 from the random diagonal\n",
    "print(a)"
   ]
  },
  {
   "cell_type": "markdown",
   "id": "e44e9789-e10a-4509-9738-a290a5e17f8f",
   "metadata": {},
   "source": [
    "##### 4.  Create a 5×5 NumPy array of containing a random sample of numbers without replacement from 101 and 200 inclusive.  Find and swap the maximum and minimum elements in the arrayand print the result."
   ]
  },
  {
   "cell_type": "code",
   "execution_count": 5,
   "id": "b8c52b58-d4ec-488b-9d7c-1c752791313b",
   "metadata": {},
   "outputs": [
    {
     "name": "stdout",
     "output_type": "stream",
     "text": [
      "[[148 159 180 112 131]\n",
      " [111 106 143 129 193]\n",
      " [110 161 165 125 149]\n",
      " [166 101 127 109 183]\n",
      " [196 126 152 123 133]]\n",
      "\n",
      "[[148 159 180 112 131]\n",
      " [111 106 143 129 193]\n",
      " [110 161 165 125 149]\n",
      " [166 196 127 109 183]\n",
      " [101 126 152 123 133]]\n"
     ]
    }
   ],
   "source": [
    "''' creating a random array in a range '''\n",
    "a2 = np.random.uniform(low=101, high=200, size=(5,5)) # https://stackoverflow.com/questions/22071987/generate-random-array-of-floats-between-a-range\n",
    "\n",
    "# However, this allows the same number to be repeated twice (even if its unlikely),\n",
    "# so instead use np.random.choice()\n",
    "\n",
    "a = np.random.choice(np.arange(101,201), size=(5,5), replace=False)\n",
    "\n",
    "# We are using np.arange to create integers, but could just as easily have floats, \n",
    "# integers just look nicer\n",
    "\n",
    "''' Finding max and minimum elements '''\n",
    "a_max_pos = np.argmax(a)\n",
    "a_max = np.max(a)\n",
    "\n",
    "a_min_pos = np.argmin(a)\n",
    "a_min = np.min(a)\n",
    "\n",
    "''' Swapping the two values '''\n",
    "a.flatten() # making the array 1D\n",
    "a1 = list(a.flatten()) # making 1D array into a list\n",
    "\n",
    "a1[a_max_pos] = a_min # swapping max to min\n",
    "a1[a_min_pos] = a_max # swapping min to max\n",
    "\n",
    "a_final = np.array(a1) # turning list back into an array\n",
    "a_final = a_final.reshape(5,5) # turning 1D array into 5x5 array\n",
    "\n",
    "print(a)\n",
    "print()\n",
    "print(a_final)"
   ]
  },
  {
   "cell_type": "markdown",
   "id": "041c4dec-7dbd-477a-8d85-3eebc05ce079",
   "metadata": {},
   "source": [
    "##### 5.  Create  a 3×4 matrix M of  random  values  from  a  uniform  distribution U(0,1).   From  this create"
   ]
  },
  {
   "cell_type": "code",
   "execution_count": 6,
   "id": "ef5bef41-6ab9-4e95-a21b-37bfd7759f33",
   "metadata": {},
   "outputs": [
    {
     "name": "stdout",
     "output_type": "stream",
     "text": [
      "[[0.36537584 0.70299846 0.27504616 0.38844904]\n",
      " [0.07994072 0.6518556  0.17635266 0.92317639]\n",
      " [0.9565809  0.35851135 0.61299607 0.41449908]]\n"
     ]
    }
   ],
   "source": [
    "''' creating random 3x4 matrix '''\n",
    "M = np.random.rand(3,4)\n",
    "print(M)"
   ]
  },
  {
   "cell_type": "markdown",
   "id": "c3c128a2-7b87-46b0-9d56-566090c5b392",
   "metadata": {},
   "source": [
    "##### (a)  three vectors, $a_1$, $a_2$ and $a_3$ in $R^4$ corresponding to each of the rows of this matrix"
   ]
  },
  {
   "cell_type": "code",
   "execution_count": 7,
   "id": "9be58bad-ded2-4e5f-8cb1-43d7f2268c59",
   "metadata": {},
   "outputs": [],
   "source": [
    "a1 = M[0]\n",
    "a2 = M[1]\n",
    "a3 = M[2]"
   ]
  },
  {
   "cell_type": "markdown",
   "id": "b93865ca-e18a-415d-adc9-8f007e413904",
   "metadata": {},
   "source": [
    "##### (b)  two 3×2 matrices B1 and B2 where the first is made from the first two columns of M and the second is from the last two columns of M."
   ]
  },
  {
   "cell_type": "code",
   "execution_count": 8,
   "id": "898f2957-04ff-4a94-9459-2433ad672886",
   "metadata": {},
   "outputs": [
    {
     "name": "stdout",
     "output_type": "stream",
     "text": [
      "[[0.36537584 0.70299846]\n",
      " [0.07994072 0.6518556 ]\n",
      " [0.9565809  0.35851135]]\n",
      "\n",
      "[[0.27504616 0.38844904]\n",
      " [0.17635266 0.92317639]\n",
      " [0.61299607 0.41449908]]\n"
     ]
    }
   ],
   "source": [
    "''' \n",
    "\n",
    "When creating the 3x2 matrix, we splice the matrix M to get the first two columns by doing\n",
    "M[:,0] and M[:,1].\n",
    "\n",
    "Then create an array with the two columns, which creates a 2x3 matrix, which must be transposed:\n",
    "\n",
    "array.T \n",
    "\n",
    "'''\n",
    "\n",
    "B1 = np.array((M[:,0],M[:,1])).T \n",
    "B2 = np.array((M[:,2],M[:,3])).T\n",
    "\n",
    "print(B1)\n",
    "print()\n",
    "print(B2)"
   ]
  },
  {
   "cell_type": "markdown",
   "id": "a9c48d7b-4bfb-4929-8be7-27724568cee0",
   "metadata": {},
   "source": [
    "##### 6.  Define a random 4×3 matrix A and a column vector b in $R^4$.  For both A and b the elements should be drawn from the integers from 1 to 9 inclusive.  Calculate $A^Tb$ and $b^TA$.  Print out the results and the dimensions of each of the resulting objects."
   ]
  },
  {
   "cell_type": "code",
   "execution_count": 9,
   "id": "5a4f9e05-e9cd-4519-93d0-7e59a3d14f0c",
   "metadata": {},
   "outputs": [
    {
     "name": "stdout",
     "output_type": "stream",
     "text": [
      "[[4 6 4]\n",
      " [4 6 4]\n",
      " [1 3 7]\n",
      " [1 8 1]]\n",
      "\n",
      "[[5]\n",
      " [3]\n",
      " [8]\n",
      " [1]]\n"
     ]
    }
   ],
   "source": [
    "''' creating random 4x3 matrix '''\n",
    "A = np.random.choice(np.arange(1,10),size=(4,3))\n",
    "print(A)\n",
    "print()\n",
    "''' creating a random column vector '''\n",
    "b = np.random.choice(np.arange(1,10),size=(4,1))\n",
    "print(b)"
   ]
  },
  {
   "cell_type": "code",
   "execution_count": 10,
   "id": "e36bacde-9616-46b9-ae87-4107025113fe",
   "metadata": {},
   "outputs": [
    {
     "name": "stdout",
     "output_type": "stream",
     "text": [
      "A^T b = \n",
      " [[41]\n",
      " [80]\n",
      " [89]], \n",
      "dimensions (3, 1).\n",
      "\n",
      " b^T A = [[41 80 89]], \n",
      "dimensions (1, 3).\n"
     ]
    }
   ],
   "source": [
    "''' Calculating A^T b and b^T A '''\n",
    "\n",
    "Atb = (A.T).dot(b) # dot product is the matrix multiplication\n",
    "btA = (b.T).dot(A)\n",
    "\n",
    "print(f'A^T b = \\n {Atb}, \\ndimensions {np.shape(Atb)}.\\n\\n b^T A = {btA}, \\ndimensions {np.shape(btA)}.')"
   ]
  },
  {
   "cell_type": "markdown",
   "id": "e3d4d5bd-2e12-4d33-a7f9-08315d63d740",
   "metadata": {},
   "source": [
    "##### 7.  Generate  a  NxP  matrix Q of  random  numbers  from  a  normal  distribution N(0,1) where N= 500,000 is the number of rows and P= 5 is the number of columns."
   ]
  },
  {
   "cell_type": "code",
   "execution_count": 11,
   "id": "ee2877e5-dcef-4122-bf10-e95e72c5c085",
   "metadata": {},
   "outputs": [],
   "source": [
    "N = 500000\n",
    "P = 5\n",
    "sigma = 1\n",
    "\n",
    "''' \n",
    "\n",
    "If we needed a truncated normal distribution, i.e. not centred at zero \n",
    "\n",
    "https://stackoverflow.com/questions/36894191/how-to-get-a-normal-distribution-within-a-range-in-numpy\n",
    "\n",
    "'''\n",
    "from scipy.stats import truncnorm\n",
    "def truncated_normal(mean, sd, low, upp):\n",
    "    return truncnorm(\n",
    "        (low - mean) / sd, (upp - mean) / sd, loc=mean, scale=sd)\n",
    "\n",
    "Q = truncated_normal(0.5, sigma, low=0, upp=1)\n",
    "\n",
    "# the mean is set to 0.5 because it is half-way between 0 and 1, and as it is a normal distribution\n",
    "# with limits of 0 and 1, the mean has to be 0.5.\n",
    "\n",
    "Q = Q.rvs((N,P)) # .rvs creates random variables in the given shape"
   ]
  },
  {
   "cell_type": "code",
   "execution_count": 12,
   "id": "1ff99b78-b0c5-4ef2-ba9e-954600d262f0",
   "metadata": {},
   "outputs": [
    {
     "name": "stdout",
     "output_type": "stream",
     "text": [
      "[[-0.23643882 -1.5584781  -0.23741315 -0.1304705   0.34057427]\n",
      " [-0.48063278 -0.51645687  0.16961645  1.50878527 -0.86695135]\n",
      " [-0.51971219 -0.29785311  0.58255702 -1.08089861  0.6247401 ]\n",
      " ...\n",
      " [ 1.09401303 -0.06900884  1.2624548  -1.78867715  0.70984216]\n",
      " [ 0.32344931 -1.1561993   1.27322015 -0.56314878 -0.88860192]\n",
      " [ 0.08673803 -1.5047125   0.5804979   0.39240599  0.06029716]]\n"
     ]
    }
   ],
   "source": [
    "N = 500000\n",
    "P = 5\n",
    "sigma = 1\n",
    "\n",
    "'''\n",
    "\n",
    "Using the numpy.random.normal(loc, scale, size) function, where\n",
    "loc = the mean/centre of the distribution\n",
    "scale = standard deviation of the distribution\n",
    "size = output shape\n",
    "\n",
    "https://numpy.org/doc/stable/reference/random/generated/numpy.random.normal.html\n",
    "\n",
    "However, could also create a Gaussian distribution by using the formula\n",
    "\n",
    "'''\n",
    "Q = np.random.normal(0,sigma,(N,P)) # gives normal distribution of numbers with mean 0, shape NxP.\n",
    "print(Q)"
   ]
  },
  {
   "cell_type": "markdown",
   "id": "274efd59-d18b-4b0c-ae0d-fb88f505e25b",
   "metadata": {},
   "source": [
    "##### a)  Calculate  the  mean  of  each  row  of Q.  The  sample  means  are  distributed  like  a  normal distribution\n",
    "\n",
    "#####  $ N(0,\\sigma^2 / P) $\n",
    "\n",
    "##### Create a plot that overlays the distribution of the sample means over the histogram."
   ]
  },
  {
   "cell_type": "code",
   "execution_count": 13,
   "id": "5c92b2b1-4eb4-4e8e-8ddf-8c45aade8ce1",
   "metadata": {},
   "outputs": [
    {
     "data": {
      "image/png": "[encoded data removed]",
      "text/plain": [
       "<Figure size 864x576 with 1 Axes>"
      ]
     },
     "metadata": {
      "needs_background": "light"
     },
     "output_type": "display_data"
    }
   ],
   "source": [
    "''' Calculating the mean of each row '''\n",
    "\n",
    "np.sum(Q[0])/np.size(Q[0]) # summing all of the elements in the first row \n",
    "                           # and dividing by the number of elements (which is always 5)\n",
    "    \n",
    "means_of_each_row = [np.sum(Q[n])/5 for n in range(N)] # using a similar logic to task 1 to sum each row\n",
    "\n",
    "''' Normal Distribution '''\n",
    "normal_distribution = np.random.normal(0,sigma**2/P,(N)) # Q: does the size need to be NxP or just N?\n",
    "\n",
    "''' Creating the histogram '''\n",
    "import matplotlib.pyplot as plt\n",
    "from scipy.stats import norm\n",
    "\n",
    "# https://numpy.org/doc/stable/reference/generated/numpy.histogram.html\n",
    "\n",
    "fig = plt.figure(figsize=(12,8))\n",
    "\n",
    "bins = 50 # number of histogram rectangles\n",
    "xmin = np.min(means_of_each_row)\n",
    "xmax = np.max(means_of_each_row)\n",
    "\n",
    "plt.hist(means_of_each_row, bins, density=True, label='Data')\n",
    "\n",
    "''' Adding the normal distribution line '''\n",
    "x = np.linspace(xmin, xmax, N)\n",
    "\n",
    "# We know that the centre is at 0, therefore we need to find the standard deviation sd\n",
    "\n",
    "'''\n",
    "\n",
    "For ease, this could be achived using:\n",
    "\n",
    "import statistics\n",
    "\n",
    "mean = statistics.mean(means_of_each_row)\n",
    "sd = statistics.stdev(means_of_each_row)\n",
    "\n",
    "'''\n",
    "\n",
    "mean=sum(means_of_each_row)/len(means_of_each_row)\n",
    "sd = np.sqrt(sum((means_of_each_row - mean)**2)/len(means_of_each_row))\n",
    "p = norm.pdf(x,0,sd) # the normal distribution\n",
    "plt.plot(x, p, 'r', label='$N(0,\\sigma^2/P)$')\n",
    "plt.title('Histogram of mean of each row, plotted with the normal distribution')\n",
    "plt.xlabel('Sample Mean',size=18)\n",
    "plt.ylabel('Density',size=18)\n",
    "plt.legend(loc = 'best', prop={'size':12})\n",
    "\n",
    "'''\n",
    "To find sigma, use the knowledge that sd = sigma^2/P, given in question\n",
    "'''\n",
    "plt.text(-1.7,0.7, f'$\\sigma$ = {np.sqrt(sd*P):.3f}',size=12)\n",
    "\n",
    "plt.text(-1.7,0.8, f'$N$ = {N:.0f}',size=12)\n",
    "plt.text(-1.7,0.75, f'$P$ = {P:.0f}',size=12)\n",
    "plt.show()"
   ]
  },
  {
   "cell_type": "markdown",
   "id": "8e753ee2-f381-45c8-9722-d5a0d305bac7",
   "metadata": {},
   "source": [
    "##### (b) ♣ Calculate the variance of each row.  The sample variance is a chi-squared distribution"
   ]
  },
  {
   "cell_type": "markdown",
   "id": "e3f956eb-66b6-417b-83a1-6c2bb4bd4253",
   "metadata": {},
   "source": [
    "##### 8. In this question you will simulate the binomial distribution for large N and show that visually it  tends  to  the  normal  distribution.   To  do  this  we  are  going  to  run  a  set  of  Bernoulli  trials which you can think of as tossing a coin tossing.  The experiment is to toss a fair (p= 0.5) coin N = 10000 times and record how many times heads comes up.  We then repeat the experiment M= 1000 times and plot the histogram of the number of heads for each experiment. You  should  plot  the  histogram  against  the  normal  distribution  with  the  correct  mean  and standard deviation.\n",
    "\n",
    "##### $\\mu = Np$\n",
    "##### $\\sigma = \\sqrt{Np(1-p)}$"
   ]
  },
  {
   "cell_type": "code",
   "execution_count": 14,
   "id": "b6ddf629-c69e-4e40-bb88-1c02632c0996",
   "metadata": {},
   "outputs": [
    {
     "data": {
      "image/png": "[encoded data removed]",
      "text/plain": [
       "<Figure size 864x576 with 1 Axes>"
      ]
     },
     "metadata": {
      "needs_background": "light"
     },
     "output_type": "display_data"
    },
    {
     "name": "stdout",
     "output_type": "stream",
     "text": [
      "We can see that the coin toss data does indeed follow a Normal distribution, which is centred around the mean 5000.0, with a standard deviation 50.0.\n"
     ]
    }
   ],
   "source": [
    "''' Defining the problem '''\n",
    "p = 0.5 # probability\n",
    "N = 10000 # no. of coin tosses\n",
    "M = 1000 # no. of repeated experiments\n",
    "\n",
    "''' simulating the coin tossess for one experiment '''\n",
    "\n",
    "tosses = [np.random.randint(0,2) for n in range(N)] # must be (0,2) as 2 is not inclusive (i.e. only gives values of 0 and 1)\n",
    "heads = tosses.count(0) # defining heads as every time tosses gives a value of 0.\n",
    "tails = tosses.count(1)\n",
    "\n",
    "repeated_tosses = [np.random.randint(0,2,size=(N)) for m in range(M)] # list of M repeats of N tosses\n",
    "\n",
    "number_of_heads_per_experiment = [np.sum(list(repeated_tosses[m]).count(0)) for m in range(M)]\n",
    "# same principle as: 'means_of_each_row = [np.sum(Q[n])/5 for n in range(N)]'' \n",
    "\n",
    "\n",
    "bins=50 # number of rectangles # Enough to capture data points without losing general shape\n",
    "xmin = np.min(number_of_heads_per_experiment)\n",
    "xmax = np.max(number_of_heads_per_experiment)\n",
    "\n",
    "x = np.linspace(xmin, xmax, N)\n",
    "\n",
    "mean= N*p\n",
    "sd = np.sqrt(N*p*(1-p)) # ---> from definition in question\n",
    "\n",
    "def normal_dis(x,mu,sigma):\n",
    "    return 1/(sigma*np.sqrt(2*np.pi)) * np.exp(-0.5*((x-mu)/sigma)**2) # defining the normal distribution\n",
    "\n",
    "q = normal_dis(x,mean,sd)    \n",
    "\n",
    "fig = plt.figure(figsize=(12,8))\n",
    "plt.title('Histogram against normal distribution of 1000 trials of 10,000 coin tosses',size=20)\n",
    "plt.hist(number_of_heads_per_experiment, bins, density=True, label='Data')\n",
    "plt.plot(x,q,'r',label=r'$N(\\mu,\\sigma)$') \n",
    "plt.xlabel('Number of heads per trial',size=18)\n",
    "plt.ylabel('Density',size=18)\n",
    "plt.legend(loc = 'best', prop={'size':12})\n",
    "plt.text(xmin+7,np.max(q), f'$\\mu$ = {mean:.0f}',size=12) # writing values for mean and sd\n",
    "plt.text(xmin+7,np.max(q)-0.0005, f'$\\sigma$ = {sd:.0f}',size=12)\n",
    "plt.show()\n",
    "print(f'We can see that the coin toss data does indeed follow a Normal distribution, which is centred around the mean {mean}, with a standard deviation {sd}.')"
   ]
  },
  {
   "cell_type": "markdown",
   "id": "315760ee-0645-4dab-a068-e46d9daf0e3f",
   "metadata": {},
   "source": [
    "##### 9.  When testing a computational method it is a good idea to start with a problem for which the answer is known from another source.\n",
    "\n",
    "(a) Analytically evaluate the integral\n",
    "\n",
    "Q: $ \\int_{0}^{2} e^{-x}\\sin(x) \\,dx $ \n",
    "\n",
    "\n",
    "Using integration by parts:\n",
    "\n",
    "$ \\int u \\frac{dv}{dx} \\,dx  =  uv - \\int v \\frac{du}{dx} \\,dx $, where $u = e^{-x}$ and $\\frac{dv}{dx}=\\sin(x)$\n",
    "\n",
    "A: $= [-\\frac{1}{2} e^{-x} \\left(\\sin(x)+\\cos(x)\\right)]_{0}^{2}$ (evaluated below)"
   ]
  },
  {
   "cell_type": "code",
   "execution_count": 15,
   "id": "9dc9caf2-937a-4163-8c69-db3179f1c0af",
   "metadata": {},
   "outputs": [
    {
     "name": "stdout",
     "output_type": "stream",
     "text": [
      "Integral = 0.46662966259317556\n"
     ]
    }
   ],
   "source": [
    "y = [(-0.5*np.exp(-x)*(np.sin(x)+np.cos(x))) for x in range (3)] \n",
    "\n",
    "'''\n",
    "First method I could think of was to solve the integral, and then\n",
    "create a for loop to add in the values necessary. \n",
    "\n",
    "This could have been done manually, without the need to calculate at x=1,\n",
    "however it works.\n",
    "\n",
    "'''\n",
    "\n",
    "real_integral = y[2]-y[0] # taking y at x=2 - y at x=0\n",
    "\n",
    "print(f'Integral = {real_integral}')"
   ]
  },
  {
   "cell_type": "markdown",
   "id": "a8b35814-ebe7-419e-957c-aedfe81037c7",
   "metadata": {},
   "source": [
    "##### (b) Write a program to plot the function $e^{-x}\\sin(x)$ in the range [0,π] (you should includea labeled figure in your report)"
   ]
  },
  {
   "cell_type": "code",
   "execution_count": 16,
   "id": "29b8d493-211b-4c4a-8887-6f237c3d1ccd",
   "metadata": {},
   "outputs": [
    {
     "data": {
      "image/png": "[encoded data removed]",
      "text/plain": [
       "<Figure size 864x576 with 1 Axes>"
      ]
     },
     "metadata": {
      "needs_background": "light"
     },
     "output_type": "display_data"
    }
   ],
   "source": [
    "x = np.linspace(0,np.pi,500)\n",
    "y = np.exp(-x)*np.sin(x) # defining the function\n",
    "\n",
    "fig = plt.figure(figsize=(12,8))\n",
    "plt.plot(x,y,label='$f(x) = e^{-x} \\sin(x)$', color='red', linewidth='2')\n",
    "plt.title('Graph showing f(x) in the range 0 to $\\pi$', size=20)\n",
    "plt.xlabel('x',size=15)\n",
    "plt.ylabel('y',size=15,rotation=0)\n",
    "plt.legend(loc='best',prop={'size':17})\n",
    "plt.show()"
   ]
  },
  {
   "cell_type": "markdown",
   "id": "89f91abe-9c8f-4298-860e-4aefbb4a806a",
   "metadata": {},
   "source": [
    "##### (c) Write a program that implements the Trapezium rule to evaluate the above integral [1]. Implement the Trapezium rule yourself, don’t use scipy."
   ]
  },
  {
   "cell_type": "markdown",
   "id": "a3526f5d-a7f6-4646-b896-253b233f7706",
   "metadata": {},
   "source": [
    "Trapezium rule: $ \\int_{a}^{b} y_i \\,dx \\approx \\frac{1}{2}h[y_0 + 2(y_1 + y_2 + y_3 + ..... + y_{n-1}) + y_n] $, where $h = \\frac{b-a}{n}$, n is the number of intervals"
   ]
  },
  {
   "cell_type": "code",
   "execution_count": 17,
   "id": "7174c756-454d-4022-848f-645cf7778563",
   "metadata": {},
   "outputs": [
    {
     "name": "stdout",
     "output_type": "stream",
     "text": [
      "0.4640569511868244\n"
     ]
    }
   ],
   "source": [
    "n = 100 # increasing n increases the accuracy of the integral\n",
    "\n",
    "b = 2\n",
    "a = 0\n",
    "h = (b-a)/n\n",
    "\n",
    "x = np.linspace(a,b,n+1) # must be up to n+1 to allow for calling y[n] \n",
    "\n",
    "y = np.exp(-x)*np.sin(x)\n",
    "\n",
    "trapezium_integral = 0.5*h*(y[0] + 2*(np.sum(y[1:n-1]))+ y[n]) \n",
    "\n",
    "print(trapezium_integral)"
   ]
  },
  {
   "cell_type": "markdown",
   "id": "d20ead32-1ef7-4fa7-bd56-1d7e4e6c3898",
   "metadata": {},
   "source": [
    "##### (d) Output the width (h) of the interval and the result of the integration, and the differencefrom the exact result."
   ]
  },
  {
   "cell_type": "code",
   "execution_count": 18,
   "id": "ff2f94a3-19bf-4753-a91a-858159e7316d",
   "metadata": {},
   "outputs": [
    {
     "name": "stdout",
     "output_type": "stream",
     "text": [
      "The width of the interval h = 0.02 . The result of the integration = 0.46406, the actual integral = 0.46663.\n",
      "The difference between the two is 0.00257, which corresponds to a 0.551% error\n"
     ]
    }
   ],
   "source": [
    "print(f'The width of the interval h = {h} . The result of the integration = {trapezium_integral:.5f}, the actual integral = {real_integral:.5f}.') \n",
    "print(f'The difference between the two is {np.abs(real_integral-trapezium_integral):.5f}, which corresponds to a {100 * np.abs(real_integral-trapezium_integral)/real_integral:.3f}% error')"
   ]
  },
  {
   "cell_type": "markdown",
   "id": "e0aa3529-c30c-45b3-a363-cca077e8996f",
   "metadata": {},
   "source": [
    "##### (e) Use scipy.integrate to evaluate the integral."
   ]
  },
  {
   "cell_type": "code",
   "execution_count": 19,
   "id": "24fbfd91-b2d5-47b2-b3f5-52ed53d4b4da",
   "metadata": {},
   "outputs": [
    {
     "name": "stdout",
     "output_type": "stream",
     "text": [
      "General integration yields 0.46663, which has a difference of 0.0 from the analytically evaluated value\n",
      "Gaussian quadrature yields 0.46663, which has a difference of 2.9813929103283954e-11 from the analytically evaluated value\n",
      "Gaussian fixed quadrature yields 0.46663, which has a difference of 5.465343400068434e-09 from the analytically evaluated value\n",
      "Romberg integration yields 0.46663, which has a difference of 7.654987754790454e-14 from the analytically evaluated value\n",
      "The most accurate method for this integral was the \"general integration\" technique\n"
     ]
    }
   ],
   "source": [
    "'''\n",
    "\n",
    "Mentioned at the start of the question, there are three main ways of using scipy.integrate\n",
    "\n",
    "Could use: General integration tool (quad)\n",
    "           Gaussian quadrature (quadrature, fixed_quad)\n",
    "           Romberg integration (romberg)\n",
    "           \n",
    "I will try all of them and see which is closest to my computed value\n",
    "\n",
    "'''\n",
    "import scipy.integrate as integrate\n",
    "\n",
    "a = 0\n",
    "b = 2\n",
    "\n",
    "def f(x):\n",
    "    ''' defining the function (probably should've done this earlier) '''\n",
    "    return np.exp(-x)*np.sin(x)\n",
    "\n",
    "######### General integration #########\n",
    "\n",
    "int1 = integrate.quad(lambda x: f(x),a,b) # where lambda x: defines what we are integrating wrt.\n",
    "print(f'General integration yields {int1[0]:.5f}, which has a difference of {np.abs(real_integral - int1[0])} from the analytically evaluated value')\n",
    "\n",
    "\n",
    "######### Gaussian quadrature #########\n",
    "\n",
    "int2 = integrate.quadrature(lambda x: f(x),a,b)\n",
    "print(f'Gaussian quadrature yields {int2[0]:.5f}, which has a difference of {np.abs(real_integral - int2[0])} from the analytically evaluated value')\n",
    "\n",
    "\n",
    "int3 = integrate.fixed_quad(lambda x: f(x),a,b)\n",
    "print(f'Gaussian fixed quadrature yields {int3[0]:.5f}, which has a difference of {np.abs(real_integral - int3[0])} from the analytically evaluated value')\n",
    "\n",
    "\n",
    "######### General integration #########\n",
    "\n",
    "int4 = integrate.romberg(lambda x: f(x),a,b) # where lambda x: defines what we are integrating wrt.\n",
    "print(f'Romberg integration yields {int4:.5f}, which has a difference of {np.abs(real_integral - int4)} from the analytically evaluated value')\n",
    "\n",
    "print('The most accurate method for this integral was the \"general integration\" technique')"
   ]
  },
  {
   "cell_type": "markdown",
   "id": "7d568eb0-3021-4447-99c3-6ae8e5e2a48d",
   "metadata": {},
   "source": [
    "##### (f) Determine  how  the  error  (approximately)  varies  with  the  value  of h.   Produce  a  plot from  this  showing  the $log_{10}$ of  the  number  of  intervals  against  the $log_{10}$ of  relative error between the numerical and analytic values of the integral.  What accuracy can the Trapezium method calculate the answer to?  Comment on what you see.  Make sure your program  increases  the  subinterval  ranges  logarithmically  (you  will  need  to  calculate  up to at least $10^8$ intervals)."
   ]
  },
  {
   "cell_type": "code",
   "execution_count": 20,
   "id": "9c8b7e62-b0c4-4d6e-b1bd-ac1c927db91c",
   "metadata": {},
   "outputs": [
    {
     "name": "stdout",
     "output_type": "stream",
     "text": [
      "[0.0, 0.43429896024934467, 0.4640930505264249]\n"
     ]
    }
   ],
   "source": [
    "''' \n",
    "\n",
    "My aim here is to create an array of integrals which use different values for n\n",
    "\n",
    "With these integrals, it is possible to create an array of errors.\n",
    "\n",
    "From there I will plot the log graphs of n against errors\n",
    "\n",
    "'''\n",
    "\n",
    "\n",
    "''' Proof of concept with just 3 different values of n '''\n",
    "\n",
    "n = np.array([1,10,100]) # array of 3 different values of n\n",
    "\n",
    "h = (b-a)/n\n",
    "\n",
    "x = [np.linspace(a,b,n[i]+1) for i in range(3)] # creates 3 different arrays for x for the 3 different values of n.\n",
    "x = np.array(x, dtype=object) # must change list to an array to use in the function\n",
    "\n",
    "y = [np.exp(-x[p])*np.sin(x[p]) for p in range(3)] # doing this so that we can exclude y[0]\n",
    "\n",
    "\n",
    "integral = [0.5*h[k]*(y[k][0] + 2*(np.sum(y[k][1:n[k]-1]))+ y[k][n[k]-1]) for k in range(3)]\n",
    "     \n",
    "'''\n",
    "\n",
    "After much trialing, I have finally managed to create an array of integrals using a list of three values of n.\n",
    "\n",
    "What I have done is create an array of three different values of n, and from that create an array of three different\n",
    "values for h.\n",
    "\n",
    "Then, similarly to before when defining x, instead of just one set of x-values, it is now three different sets as part\n",
    "of a list (which is converted to an array, to use in y). The three sets are created by using a for loop to create an \n",
    "np.linspace for each of the three different values of n in my list.\n",
    "\n",
    "y is calculated in a very similar way, taking one of the three x-values to make a list of 3 sets of y-values\n",
    "\n",
    "The integral is then calculated the same way, noting that due to the range, the final value y[k][n[k]-1] must have [n[k]-1]\n",
    "to account for the fact that our indexing starts at y[0] not y[1] (i.e. for n=100, the 99th value is 100, there is no \n",
    "100th value).\n",
    "\n",
    "'''\n",
    "\n",
    "print(integral)"
   ]
  },
  {
   "cell_type": "code",
   "execution_count": 21,
   "id": "401eb7b9-f23e-45e9-9f6f-7405ba304e9a",
   "metadata": {},
   "outputs": [
    {
     "data": {
      "image/png": "[encoded data removed]",
      "text/plain": [
       "<Figure size 864x576 with 1 Axes>"
      ]
     },
     "metadata": {
      "needs_background": "light"
     },
     "output_type": "display_data"
    },
    {
     "name": "stdout",
     "output_type": "stream",
     "text": [
      "The smallest error produced, at n=10^8, was 2.4612031856996452e-09\n",
      "The error approximately varies as 10^(-1.01n-0.57)\n",
      "\n",
      "CPU times: user 7.14 s, sys: 2.09 s, total: 9.23 s\n",
      "Wall time: 9.34 s\n"
     ]
    }
   ],
   "source": [
    "%%time \n",
    "\n",
    "# this could take a while... \n",
    "\n",
    "''' \n",
    "\n",
    "Using the same principles as used from above, it should be possible to calculate the integrals up to at least 10^8\n",
    "\n",
    "In order to create a logarithmic scale I need to use np.logspace\n",
    "\n",
    "'''\n",
    "\n",
    "start = 1\n",
    "end = 8\n",
    "steps = 50\n",
    "\n",
    "n = np.round(np.logspace(start,end,steps)) # this defines a log scale from 10^(start) to 10^(end) in 'x' steps\n",
    "\n",
    "# The numbers must be integers in order for the program to be able to index it, hence why I use np.round \n",
    "# i.e. cannot have 122.76 intervals, it must be a whole number of intervals.\n",
    "\n",
    "h = (b-a)/n\n",
    "\n",
    "x = [np.linspace(a,b,int(n[i]+1)) for i in range(steps)]  # need to use int as np.round gives a float\n",
    "x = np.array(x, dtype=object) \n",
    "\n",
    "y = [np.exp(-x[p])*np.sin(x[p]) for p in range(steps)]\n",
    "\n",
    "\n",
    "integral = [0.5*h[k]*(y[k][0] + 2*(np.sum(y[k][1:int(n[k]-1)]))+ y[k][int(n[k]-1)]) for k in range(steps)]\n",
    "\n",
    "\n",
    "######### Finding errors ##########\n",
    "\n",
    "errors = np.abs(real_integral - integral) # real_integral defined above\n",
    "\n",
    "fig = plt.figure(figsize=(12,8))\n",
    "plt.title('How difference between Analytical and Trapezium rule integral changes with n',size=17)\n",
    "plt.scatter(np.log10(n),np.log10(errors),color='red', label='Data Points')\n",
    "plt.xlabel(r'$log_{10}$(n)',size=15)\n",
    "plt.ylabel(r'$log_{10}$(errors)',size=15)\n",
    "\n",
    "# log graph shows a linear fit, so we can use a curve fitting function to plot the linear relationship\n",
    "\n",
    "from scipy.optimize import curve_fit\n",
    "\n",
    "def linear_fit(x,a,b):\n",
    "    return a*x + b\n",
    "\n",
    "popt, pcov = curve_fit(linear_fit, np.log10(n), np.log10(errors)) # optimising linear fit. popt returns (a,b).\n",
    "\n",
    "plt.plot(np.log10(n),linear_fit(np.log10(n),popt[0],popt[1]), color='blue',label=f'$log_{{10}}$(errors) = {popt[0]:.3f}$log_{{10}}$(n) {popt[1]:.3f}') \n",
    "# plotting linear fit with values a and b\n",
    "plt.legend(prop={'size':12})\n",
    "plt.show()\n",
    "\n",
    "\n",
    "''' \n",
    "\n",
    "The best accuracy the Trapezium method can measure to is infinite accuracy, as long as n tends to infinity. \n",
    "\n",
    "As the log graph shows a linear relationship, provided n continues to increase, the errors will also continue\n",
    "to decrease exponentially. \n",
    "\n",
    "'''\n",
    "print(f'The smallest error produced, at n=10^{8}, was {errors[steps-1]}')\n",
    "print(f'The error approximately varies as 10^({popt[0]:.2f}n{popt[1]:.2f})')\n",
    "print()"
   ]
  }
 ],
 "metadata": {
  "kernelspec": {
   "display_name": "Python 3 (ipykernel)",
   "language": "python",
   "name": "python3"
  },
  "language_info": {
   "codemirror_mode": {
    "name": "ipython",
    "version": 3
   },
   "file_extension": ".py",
   "mimetype": "text/x-python",
   "name": "python",
   "nbconvert_exporter": "python",
   "pygments_lexer": "ipython3",
   "version": "3.8.5"
  }
 },
 "nbformat": 4,
 "nbformat_minor": 5
}
