{
 "cells": [
  {
   "cell_type": "markdown",
   "metadata": {},
   "source": [
    "# Electron in a finite potential well\n",
    "### Author - Guner Aygin\n",
    "##### Date - 4/10/2020"
   ]
  },
  {
   "cell_type": "markdown",
   "metadata": {},
   "source": [
    "### Ojectives:\n",
    "\n",
    "##### This was a small assignment undertaken in my second year studying Physics. \n",
    "##### The aim of this assignment is to find the bound state energy eigenvalues (meaning $E < V_0$) for an electron subject to the potential: \n",
    "\n",
    "$ V(x) = \\begin{cases} \n",
    "      V_0, & |x| \\geq \\frac{a}{2} \\\\\n",
    "      0, & |x| \\lt \\frac{a}{2}\n",
    "   \\end{cases}\n",
    "$\n",
    "\n",
    "where $a$ is the cell width, and $V_0$ is the potential."
   ]
  },
  {
   "cell_type": "code",
   "execution_count": 1,
   "metadata": {},
   "outputs": [],
   "source": [
    "# We can choose any value for a and V0\n",
    "\n",
    "a = 1.75e-9 # metres\n",
    "V0 = 2.49 # eV"
   ]
  },
  {
   "cell_type": "markdown",
   "metadata": {},
   "source": [
    "## Part 1\n",
    "We plot the potential well using the code below."
   ]
  },
  {
   "cell_type": "code",
   "execution_count": 2,
   "metadata": {},
   "outputs": [
    {
     "data": {
      "image/png": "[encoded data removed]",
      "text/plain": [
       "<Figure size 432x288 with 1 Axes>"
      ]
     },
     "metadata": {
      "needs_background": "light"
     },
     "output_type": "display_data"
    }
   ],
   "source": [
    "import numpy as np\n",
    "import matplotlib.pyplot as plt\n",
    "%matplotlib inline\n",
    "\n",
    "x = np.linspace(-a, a, num=1000)\n",
    "\n",
    "# Each point of x is mapped to V0 if abs(x) >= a / 2 and 0 otherwise\n",
    "potential_array = np.piecewise(x, [abs(x) >= a / 2, abs(x) < a / 2],[V0, 0]) # --> np.piecewise evaluate to V0 when condition is True, or 0 when False\n",
    "\n",
    "plt.title('The Finite Square Well Potential')\n",
    "plt.xlabel(r'$x$ / $m$')\n",
    "plt.ylabel(r'$V(x)$ / $eV$')\n",
    "\n",
    "plt.axis([np.amin(x), np.amax(x), 0, 4/3*np.amax(potential_array)]) # --> # np.amin and np.amax return the maximum and minimum values of an array respectively\n",
    "plt.plot(x, potential_array)\n",
    "plt.show()"
   ]
  },
  {
   "cell_type": "markdown",
   "metadata": {},
   "source": [
    "For an electron in this potential, one can define a dimensionless parameter $\\chi$ (not related to the coordinate $x$ above!) related to the energy $E$ as\n",
    "\n",
    "$\\chi=\\displaystyle \\frac{a}{\\hbar}\\sqrt{\\frac{mE}{2}}.$\n",
    "\n",
    "Here $a$ is the well width, $\\hbar$ is the reduced Planck's constant, and $m$ is the mass of the electron, all in SI units. It can be shown (see Quantum Mechanics 2) that finding the energy eigenvalues reduces to finding the values of $\\chi$ that satisfy one of the following equations:\n",
    "\n",
    "$\\tan \\chi = \\frac{\\sqrt{\\lambda_0 - \\chi^2}}{\\chi}, \\quad\\quad (1)$\n",
    "\n",
    "$-\\cot \\chi = \\frac{\\sqrt{\\lambda_0 - \\chi^2}}{\\chi}, \\quad\\quad (2)$\n",
    "\n",
    "where $\\lambda_0 = ma^2V_0 / 2\\hbar^2$ is a dimensionless constant dependent on the well parameters. Equation (1) yields energy eigenvalues whose wavefunctions are even, whilst equation (2) corresponds to the energies of odd wavefunctions.\n",
    "\n",
    "These equations are transcendental, and numerical methods must be employed to obtain the solutions. Here we utilise the ```bisect``` method available in the SciPy library, and can be loaded from the `scipy.optimize` module. We have provided a simple example for using the `bisect` method in the example notebook ```scipy_bisect_example.ipynb```."
   ]
  },
  {
   "cell_type": "markdown",
   "metadata": {},
   "source": [
    "First task we define a function named `rhs(x)`, describing the right hand side of equations $(1)$ and $(2)$. The function should expect **one** argument, `x`, which is to be a NumPy array. It should then return a NumPy array containing the result of\n",
    "\n",
    "$f(x)=\\frac{\\sqrt{\\lambda_0 - x^2}}{x}$\n",
    "applied elementwise to `x`. \n",
    "\n",
    "The dimensionless constant $\\lambda_0$ is defined using your well parameters in the cell below. Be sure to reference this value in your `rhs` function.\n",
    "\n",
    "Note: NumPy has already been imported as `np` in the second code cell."
   ]
  },
  {
   "cell_type": "code",
   "execution_count": 3,
   "metadata": {},
   "outputs": [],
   "source": [
    "# Import the necessary constants from scipy.constants module\n",
    "from scipy import constants\n",
    "e = constants.e # Elementary Charge\n",
    "hbar = constants.hbar # Reduced Planck's constant\n",
    "m = constants.m_e # Electron mass\n",
    "\n",
    "# Do not alter this constant below (note the conversion of eV to Joules)\n",
    "lambda_0 = (m*(a**2)*V0*e)/(2*constants.hbar**2) \n",
    "\n",
    "def rhs(x):\n",
    "    ''' defining rhs function '''\n",
    "    return np.sqrt(lambda_0 - x**2)/x"
   ]
  },
  {
   "cell_type": "markdown",
   "metadata": {},
   "source": [
    "To check that `rhs` is working correctly we test that\n",
    "\n",
    "$f(\\sqrt{\\lambda_0/2}) = 1, ~~~~ f(\\sqrt{\\lambda_0/5}) = 2.$"
   ]
  },
  {
   "cell_type": "code",
   "execution_count": 4,
   "metadata": {},
   "outputs": [
    {
     "data": {
      "text/plain": [
       "array([1., 2.])"
      ]
     },
     "execution_count": 4,
     "metadata": {},
     "output_type": "execute_result"
    }
   ],
   "source": [
    "rhs(np.array([np.sqrt(lambda_0/2), np.sqrt(lambda_0/5)]))"
   ]
  },
  {
   "cell_type": "markdown",
   "metadata": {},
   "source": [
    "## Part 2\n",
    "\n",
    "In order to perform the bisection method, we require an interval which is known to contain a solution. Choosing this interval is straightforward if the relevant functions are represented graphically. This motivates this next task. \n",
    "\n",
    "In the following cell, use `matplotlib.pyplot` (already imported as `plt`) to plot the following three functions:\n",
    "\n",
    "$\\tan x, ~~~~~~~ -\\cot x, ~~~~~~~ f(x)=\\frac{\\sqrt{\\lambda_0 - x^2}}{x},$\n",
    " \n",
    "on the **half-open** interval $\\big[0.1,\\sqrt\\lambda_0\\big)$.\n",
    "\n",
    "We limit the range of values displayed on the $y$ axis to discern suitable intervals upon which to perform the bisection method (Part 4). It can also be useful to try interactive plot windows to zoom in on the crossing points."
   ]
  },
  {
   "cell_type": "code",
   "execution_count": 5,
   "metadata": {},
   "outputs": [
    {
     "data": {
      "text/plain": [
       "[]"
      ]
     },
     "execution_count": 5,
     "metadata": {},
     "output_type": "execute_result"
    },
    {
     "data": {
      "image/png": "[encoded data removed]",
      "text/plain": [
       "<Figure size 720x432 with 1 Axes>"
      ]
     },
     "metadata": {
      "needs_background": "light"
     },
     "output_type": "display_data"
    }
   ],
   "source": [
    "# Creating the figure\n",
    "student_figure = plt.figure(figsize=(10,6)) \n",
    "x = np.linspace(0.1, np.sqrt(lambda_0), 2000, endpoint=False)\n",
    "plt.xlabel(r'$x$', fontsize=16) \n",
    "plt.ylabel(r'$f(x)$', fontsize=16) \n",
    "plt.axis([np.amin(x), np.amax(x), -5, 80])\n",
    "plt.plot(x, rhs(x), 'r', label='rhs(x)')\n",
    "plt.plot(x, np.tan(x), 'b', label='tan(x)')\n",
    "plt.plot(x, (-1/np.tan(x)), 'g', label = '-cot(x)')\n",
    "plt.title(\"Graph to show where three different functions intersect\", fontsize=18)\n",
    "plt.legend(fontsize=14)\n",
    "plt.plot()"
   ]
  },
  {
   "cell_type": "markdown",
   "metadata": {},
   "source": [
    "## Part 3\n",
    "\n",
    "Next, we define two more functions called `even_equation` and `odd_equation`. These should each take a NumPy array as their only argument and return a NumPy array containing the result of\n",
    "\n",
    "$f_{\\rm even}(x) = \\tan x - \\frac{\\sqrt{\\lambda_0 - x^2}}{x}$\n",
    "and\n",
    "$f_{\\rm odd}(x) = \\cot x + \\frac{\\sqrt{\\lambda_0 - x^2}}{x}$\n",
    "applied elementwise to the input array, correspondingly."
   ]
  },
  {
   "cell_type": "code",
   "execution_count": 6,
   "metadata": {},
   "outputs": [],
   "source": [
    "def even_equation(x):\n",
    "    return np.tan(x) - rhs(x)\n",
    "\n",
    "def odd_equation(x):\n",
    "    return 1/np.tan(x) + rhs(x)"
   ]
  },
  {
   "cell_type": "markdown",
   "metadata": {},
   "source": [
    "## Part 4\n",
    "\n",
    "Employing the `even_equation` and `odd_equation` functions defined in part 3, and making multiple calls to the `bisect` method on suitable intervals, we can find the three smallest solutions of equations $(1)$ and $(2)$ taken together. In other words, find the values of $x$ corresponding to the first three energy eigenvalues. "
   ]
  },
  {
   "cell_type": "code",
   "execution_count": 7,
   "metadata": {},
   "outputs": [],
   "source": [
    "import scipy.optimize as optimize\n",
    "\n",
    "solution_list = []\n",
    "\n",
    "''' Note: the bisector values need to be manually changed for different values of a and V0 '''\n",
    "first_solution = optimize.bisect(even_equation, 1.2, 1.4) # where rhs(x) first intercepts tan(x)\n",
    "solution_list.append(first_solution)  \n",
    "second_solution = optimize.bisect(odd_equation, 2.5, 2.9) # where rhs(x) first intercepts -cot(x)\n",
    "solution_list.append(second_solution) \n",
    "third_solution = optimize.bisect(even_equation, 3.8, 4.4) # where rhs(x) second intercepts tan(x)\n",
    "solution_list.append(third_solution) "
   ]
  },
  {
   "cell_type": "markdown",
   "metadata": {},
   "source": [
    "## Part 5\n",
    "\n",
    "The final part is to write a function named `find_energy` which takes the **previously generated, ordered list** of $x$ solutions as a parameter. It should return a new list containing the three desired energy eigenvalues expressed in units of eV. "
   ]
  },
  {
   "cell_type": "code",
   "execution_count": 8,
   "metadata": {},
   "outputs": [],
   "source": [
    "# Write the function find_energy here\n",
    "def find_energy(x):\n",
    "    ''' return the values of energy that we get from the\n",
    "        x values in solution_list'''\n",
    "    x_values = np.array(x)                     # <--- must first convert the list in Task 4 into an array so it can be operated on    \n",
    "    energy_values = []                         # <--- empty list to append later\n",
    "    for x in x_values:\n",
    "        E_SI = (2*(x**2)*(hbar**2))/((a**2)*m) # <--- finds Energy in SI units\n",
    "        E_eV = E_SI/e                          # <--- converts Energy from SI units to eV\n",
    "        energy_values.append(f'{E_eV:.3f}')    # <--- appends values of E_eV to the list with 3 decimal places \n",
    "        \n",
    "    return energy_values"
   ]
  },
  {
   "cell_type": "code",
   "execution_count": 9,
   "metadata": {},
   "outputs": [
    {
     "name": "stdout",
     "output_type": "stream",
     "text": [
      "Energy eigenvalue 0 is E = 0.094 eV\n",
      "Energy eigenvalue 1 is E = 0.375 eV\n",
      "Energy eigenvalue 2 is E = 0.834 eV\n"
     ]
    }
   ],
   "source": [
    "energy_solutions = find_energy(solution_list)\n",
    "\n",
    "for i, energy in enumerate(energy_solutions):\n",
    "    print('Energy eigenvalue {} is E = {} eV'.format(i, energy))"
   ]
  },
  {
   "cell_type": "markdown",
   "metadata": {},
   "source": [
    "There we have the three lowest energy eigenvalues for our problem. We can change $a$ and $V_0$ to see how the values change based on different parameters"
   ]
  }
 ],
 "metadata": {
  "kernelspec": {
   "display_name": "Python 3 (ipykernel)",
   "language": "python",
   "name": "python3"
  },
  "language_info": {
   "codemirror_mode": {
    "name": "ipython",
    "version": 3
   },
   "file_extension": ".py",
   "mimetype": "text/x-python",
   "name": "python",
   "nbconvert_exporter": "python",
   "pygments_lexer": "ipython3",
   "version": "3.8.5"
  }
 },
 "nbformat": 4,
 "nbformat_minor": 4
}
